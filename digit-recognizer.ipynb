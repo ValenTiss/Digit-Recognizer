{
 "cells": [
  {
   "cell_type": "code",
   "execution_count": 2,
   "metadata": {
    "_cell_guid": "b1076dfc-b9ad-4769-8c92-a6c4dae69d19",
    "_uuid": "8f2839f25d086af736a60e9eeb907d3b93b6e0e5",
    "execution": {
     "iopub.execute_input": "2025-06-04T17:56:31.353959Z",
     "iopub.status.busy": "2025-06-04T17:56:31.352876Z",
     "iopub.status.idle": "2025-06-04T17:56:31.358576Z",
     "shell.execute_reply": "2025-06-04T17:56:31.357524Z",
     "shell.execute_reply.started": "2025-06-04T17:56:31.353926Z"
    },
    "trusted": true
   },
   "outputs": [],
   "source": [
    "import numpy as np\n",
    "import pandas as pd\n",
    "from matplotlib import pyplot as plt"
   ]
  },
  {
   "cell_type": "code",
   "execution_count": null,
   "metadata": {
    "execution": {
     "iopub.execute_input": "2025-06-04T17:56:31.360825Z",
     "iopub.status.busy": "2025-06-04T17:56:31.360348Z",
     "iopub.status.idle": "2025-06-04T17:56:35.267016Z",
     "shell.execute_reply": "2025-06-04T17:56:35.266157Z",
     "shell.execute_reply.started": "2025-06-04T17:56:31.360802Z"
    },
    "trusted": true
   },
   "outputs": [],
   "source": [
    "#MNIST CSV FOR TRAINING & TESTING \n",
    "train_data = pd.read_csv('')\n",
    "test_data = pd.read_csv('')"
   ]
  },
  {
   "cell_type": "code",
   "execution_count": 4,
   "metadata": {
    "execution": {
     "iopub.execute_input": "2025-06-04T17:56:35.268637Z",
     "iopub.status.busy": "2025-06-04T17:56:35.268291Z",
     "iopub.status.idle": "2025-06-04T17:56:36.664010Z",
     "shell.execute_reply": "2025-06-04T17:56:36.662983Z",
     "shell.execute_reply.started": "2025-06-04T17:56:35.268609Z"
    },
    "trusted": true
   },
   "outputs": [],
   "source": [
    "#DATA FOR TRAIN \n",
    "train_data = np.array(train_data)\n",
    "mTrain,nTrain = train_data.shape\n",
    "np.random.shuffle(train_data)\n",
    "train_data = train_data.T\n",
    "Y_trainD = train_data[0]\n",
    "X_trainD = train_data[1:nTrain]\n",
    "X_trainD = X_trainD / 255\n",
    "\n",
    "#DATA FOR TEST \n",
    "test_data = np.array(test_data)\n",
    "mTest,nTest = test_data.shape\n",
    "np.random.shuffle(test_data)\n",
    "test_data = test_data.T\n",
    "Y_testD = test_data[0]\n",
    "X_testD = test_data[0:nTest]\n",
    "X_testD = X_testD / 255"
   ]
  },
  {
   "cell_type": "code",
   "execution_count": 5,
   "metadata": {
    "execution": {
     "iopub.execute_input": "2025-06-04T17:56:36.665343Z",
     "iopub.status.busy": "2025-06-04T17:56:36.665023Z",
     "iopub.status.idle": "2025-06-04T17:56:36.678746Z",
     "shell.execute_reply": "2025-06-04T17:56:36.677749Z",
     "shell.execute_reply.started": "2025-06-04T17:56:36.665321Z"
    },
    "trusted": true
   },
   "outputs": [],
   "source": [
    "def init_params():\n",
    "    W1 = np.random.normal(size=(10, 784)) * np.sqrt(1./(784))\n",
    "    b1 = np.random.normal(size=(10, 1)) * np.sqrt(1./10)\n",
    "    W2 = np.random.normal(size=(10, 10)) * np.sqrt(1./20)\n",
    "    b2 = np.random.normal(size=(10, 1)) * np.sqrt(1./(784))\n",
    "    return W1,b1,W2,b2\n",
    "\n",
    "def ReLU(Z):\n",
    "    return np.maximum(Z,0)\n",
    "\n",
    "def softMax(Z):\n",
    "    Z -= np.max(Z, axis=0)  # Subtract max value for numerical stability\n",
    "    A = np.exp(Z) / np.sum(np.exp(Z), axis=0)\n",
    "    return A\n",
    "\n",
    "def forward_prop(W1,b1,W2,b2,X):\n",
    "    Z1 = W1.dot(X)+ b1\n",
    "    A1 = ReLU(Z1)\n",
    "    Z2 = W2.dot(A1) + b2\n",
    "    A2 = softMax(Z2)\n",
    "    return Z1,A1,Z2,A2\n",
    "\n",
    "def deriv_ReLU(Z):\n",
    "    return Z > 0 \n",
    "\n",
    "def one_hot(Y):\n",
    "    one_hot_Y = np.zeros((Y.size,Y.max()+1))\n",
    "    one_hot_Y[np.arange(Y.size),Y] = 1\n",
    "    one_hot_Y = one_hot_Y.T\n",
    "    return one_hot_Y\n",
    "    \n",
    "def back_prop(Z1,A1,Z2,A2,W2,X,Y):\n",
    "    one_hot_Y = one_hot(Y)\n",
    "    dZ2 = A2 - one_hot_Y\n",
    "    dW2 = 1 / mTrain * dZ2.dot(A1.T)\n",
    "    db2 = 1 / mTrain * np.sum(dZ2)\n",
    "    dZ1 = W2.T.dot(dZ2) * deriv_ReLU(Z1)\n",
    "    dW1 = 1 / mTrain * dZ2.dot(X.T)\n",
    "    db1 = 1 / mTrain * np.sum(dZ1)\n",
    "    return dW1,db1,dW2,db2\n",
    "\n",
    "def update_params(W1,b1,W2,b2,dW1,db1,dW2,db2,alpha):\n",
    "    W1 = W1 - alpha * dW1\n",
    "    b1 = b1 - alpha * db1\n",
    "    W2 = W2 - alpha * dW2\n",
    "    b2 = b2 - alpha * db2\n",
    "    return W1,b1,W2,b2\n",
    "    \n",
    "\n",
    "    \n",
    "    "
   ]
  },
  {
   "cell_type": "code",
   "execution_count": 14,
   "metadata": {
    "execution": {
     "iopub.execute_input": "2025-06-04T17:56:36.680938Z",
     "iopub.status.busy": "2025-06-04T17:56:36.680676Z",
     "iopub.status.idle": "2025-06-04T17:56:36.705663Z",
     "shell.execute_reply": "2025-06-04T17:56:36.704488Z",
     "shell.execute_reply.started": "2025-06-04T17:56:36.680917Z"
    },
    "trusted": true
   },
   "outputs": [],
   "source": [
    "def get_predictions(A2):\n",
    "    return np.argmax(A2,0)\n",
    "\n",
    "def get_accuracy(predictions, Y):\n",
    "    print(predictions, Y)\n",
    "    return np.sum(predictions == Y) / Y.size\n",
    "    \n",
    "def gradient_descent(X,Y,alpha,iterations):\n",
    "    W1,b1,W2,b2 = init_params()\n",
    "    for i in range(iterations):\n",
    "        Z1 ,A1 ,Z2 , A2 = forward_prop(W1,b1,W2,b2,X)\n",
    "        dW1,db1,dW2,db2 = back_prop(Z1,A1,Z2,A2,W2,X,Y)\n",
    "        W1,b1,W2,b2 = update_params(W1,b1,W2,b2 ,dW1,db1,dW2,db2,alpha)\n",
    "        if i % 50 == 0:\n",
    "            print(\"Iteration: \", i)\n",
    "            print(\"Accuracy: \", get_accuracy(get_predictions(A2), Y))\n",
    "\n",
    "    return W1,b1,W2,b2"
   ]
  },
  {
   "cell_type": "code",
   "execution_count": 18,
   "metadata": {
    "execution": {
     "iopub.execute_input": "2025-06-04T20:23:53.116800Z",
     "iopub.status.busy": "2025-06-04T20:23:53.116185Z"
    },
    "trusted": true
   },
   "outputs": [
    {
     "name": "stdout",
     "output_type": "stream",
     "text": [
      "Iteration:  0\n",
      "[8 0 9 ... 8 4 9] [4 5 5 ... 9 2 8]\n",
      "Accuracy:  0.11369047619047619\n",
      "Iteration:  50\n",
      "[9 5 8 ... 9 2 8] [4 5 5 ... 9 2 8]\n",
      "Accuracy:  0.804952380952381\n",
      "Iteration:  100\n",
      "[9 5 5 ... 9 2 8] [4 5 5 ... 9 2 8]\n",
      "Accuracy:  0.8825\n",
      "Iteration:  150\n",
      "[9 5 5 ... 9 2 8] [4 5 5 ... 9 2 8]\n",
      "Accuracy:  0.8925952380952381\n",
      "Iteration:  200\n",
      "[4 5 5 ... 9 2 8] [4 5 5 ... 9 2 8]\n",
      "Accuracy:  0.8897619047619048\n",
      "Iteration:  250\n",
      "[9 5 5 ... 9 2 8] [4 5 5 ... 9 2 8]\n",
      "Accuracy:  0.9040952380952381\n",
      "Iteration:  300\n",
      "[4 5 5 ... 9 2 8] [4 5 5 ... 9 2 8]\n",
      "Accuracy:  0.9059285714285714\n",
      "Iteration:  350\n",
      "[4 5 5 ... 9 2 8] [4 5 5 ... 9 2 8]\n",
      "Accuracy:  0.9076666666666666\n",
      "Iteration:  400\n",
      "[4 5 5 ... 9 2 8] [4 5 5 ... 9 2 8]\n",
      "Accuracy:  0.9083333333333333\n",
      "Iteration:  450\n",
      "[4 5 5 ... 9 2 8] [4 5 5 ... 9 2 8]\n",
      "Accuracy:  0.9118333333333334\n"
     ]
    }
   ],
   "source": [
    "W1 ,b1,W2,b2 = gradient_descent(X_trainD,Y_trainD,1,500)"
   ]
  },
  {
   "cell_type": "code",
   "execution_count": 8,
   "metadata": {
    "execution": {
     "iopub.execute_input": "2025-06-04T17:58:38.312923Z",
     "iopub.status.busy": "2025-06-04T17:58:38.312559Z",
     "iopub.status.idle": "2025-06-04T17:58:38.320281Z",
     "shell.execute_reply": "2025-06-04T17:58:38.319243Z",
     "shell.execute_reply.started": "2025-06-04T17:58:38.312898Z"
    },
    "trusted": true
   },
   "outputs": [],
   "source": [
    "def make_predictions(X, W1, b1, W2, b2):\n",
    "    _, _, _, A2 = forward_prop(W1, b1, W2, b2, X)\n",
    "    predictions = get_predictions(A2)\n",
    "    return predictions\n",
    "\n",
    "def test_prediction(index, W1, b1, W2, b2):\n",
    "    current_image = X_testD[:, index, None]\n",
    "    prediction = make_predictions(X_testD[:, index, None], W1, b1, W2, b2)\n",
    "    print(\"Prediction: \", prediction)\n",
    "    \n",
    "    current_image = current_image.reshape((28, 28)) * 255\n",
    "    plt.gray()\n",
    "    plt.imshow(current_image, interpolation='nearest')\n",
    "    plt.show()"
   ]
  },
  {
   "cell_type": "code",
   "execution_count": 11,
   "metadata": {
    "execution": {
     "iopub.execute_input": "2025-06-04T20:14:52.921074Z",
     "iopub.status.busy": "2025-06-04T20:14:52.920512Z",
     "iopub.status.idle": "2025-06-04T20:14:54.433893Z",
     "shell.execute_reply": "2025-06-04T20:14:54.432961Z",
     "shell.execute_reply.started": "2025-06-04T20:14:52.921035Z"
    },
    "trusted": true
   },
   "outputs": [
    {
     "name": "stdout",
     "output_type": "stream",
     "text": [
      "Prediction:  [4]\n"
     ]
    },
    {
     "data": {
      "image/png": "[encoded data removed]",
      "text/plain": [
       "<Figure size 640x480 with 1 Axes>"
      ]
     },
     "metadata": {},
     "output_type": "display_data"
    },
    {
     "name": "stdout",
     "output_type": "stream",
     "text": [
      "Prediction:  [4]\n"
     ]
    },
    {
     "data": {
      "image/png": "[encoded data removed]",
      "text/plain": [
       "<Figure size 640x480 with 1 Axes>"
      ]
     },
     "metadata": {},
     "output_type": "display_data"
    },
    {
     "name": "stdout",
     "output_type": "stream",
     "text": [
      "Prediction:  [1]\n"
     ]
    },
    {
     "data": {
      "image/png": "[encoded data removed]",
      "text/plain": [
       "<Figure size 640x480 with 1 Axes>"
      ]
     },
     "metadata": {},
     "output_type": "display_data"
    },
    {
     "name": "stdout",
     "output_type": "stream",
     "text": [
      "Prediction:  [0]\n"
     ]
    },
    {
     "data": {
      "image/png": "[encoded data removed]",
      "text/plain": [
       "<Figure size 640x480 with 1 Axes>"
      ]
     },
     "metadata": {},
     "output_type": "display_data"
    },
    {
     "name": "stdout",
     "output_type": "stream",
     "text": [
      "Prediction:  [5]\n"
     ]
    },
    {
     "data": {
      "image/png": "[encoded data removed]",
      "text/plain": [
       "<Figure size 640x480 with 1 Axes>"
      ]
     },
     "metadata": {},
     "output_type": "display_data"
    },
    {
     "name": "stdout",
     "output_type": "stream",
     "text": [
      "Prediction:  [0]\n"
     ]
    },
    {
     "data": {
      "image/png": "[encoded data removed]",
      "text/plain": [
       "<Figure size 640x480 with 1 Axes>"
      ]
     },
     "metadata": {},
     "output_type": "display_data"
    },
    {
     "name": "stdout",
     "output_type": "stream",
     "text": [
      "Prediction:  [8]\n"
     ]
    },
    {
     "data": {
      "image/png": "[encoded data removed]",
      "text/plain": [
       "<Figure size 640x480 with 1 Axes>"
      ]
     },
     "metadata": {},
     "output_type": "display_data"
    },
    {
     "name": "stdout",
     "output_type": "stream",
     "text": [
      "Prediction:  [7]\n"
     ]
    },
    {
     "data": {
      "image/png": "[encoded data removed]",
      "text/plain": [
       "<Figure size 640x480 with 1 Axes>"
      ]
     },
     "metadata": {},
     "output_type": "display_data"
    },
    {
     "name": "stdout",
     "output_type": "stream",
     "text": [
      "Prediction:  [3]\n"
     ]
    },
    {
     "data": {
      "image/png": "[encoded data removed]",
      "text/plain": [
       "<Figure size 640x480 with 1 Axes>"
      ]
     },
     "metadata": {},
     "output_type": "display_data"
    },
    {
     "name": "stdout",
     "output_type": "stream",
     "text": [
      "Prediction:  [4]\n"
     ]
    },
    {
     "data": {
      "image/png": "[encoded data removed]",
      "text/plain": [
       "<Figure size 640x480 with 1 Axes>"
      ]
     },
     "metadata": {},
     "output_type": "display_data"
    }
   ],
   "source": [
    "for i in range(10):\n",
    "    test_prediction(np.random.randint(0,100) + i ,W1,b1,W2,b2)"
   ]
  },
  {
   "cell_type": "code",
   "execution_count": 12,
   "metadata": {
    "execution": {
     "iopub.status.busy": "2025-06-04T17:56:50.859848Z",
     "iopub.status.idle": "2025-06-04T17:56:50.860242Z",
     "shell.execute_reply": "2025-06-04T17:56:50.860062Z",
     "shell.execute_reply.started": "2025-06-04T17:56:50.860041Z"
    },
    "trusted": true
   },
   "outputs": [
    {
     "name": "stdout",
     "output_type": "stream",
     "text": [
      "[7 8 0 ... 7 4 0] [0 0 0 ... 0 0 0]\n"
     ]
    },
    {
     "data": {
      "text/plain": [
       "0.0995"
      ]
     },
     "execution_count": 12,
     "metadata": {},
     "output_type": "execute_result"
    }
   ],
   "source": [
    "dev_predictions = make_predictions(X_testD, W1, b1, W2, b2)\n",
    "get_accuracy(dev_predictions, Y_testD)"
   ]
  }
 ],
 "metadata": {
  "kaggle": {
   "accelerator": "none",
   "dataSources": [
    {
     "databundleVersionId": 861823,
     "sourceId": 3004,
     "sourceType": "competition"
    }
   ],
   "dockerImageVersionId": 31040,
   "isGpuEnabled": false,
   "isInternetEnabled": false,
   "language": "python",
   "sourceType": "notebook"
  },
  "kernelspec": {
   "display_name": "base",
   "language": "python",
   "name": "python3"
  },
  "language_info": {
   "codemirror_mode": {
    "name": "ipython",
    "version": 3
   },
   "file_extension": ".py",
   "mimetype": "text/x-python",
   "name": "python",
   "nbconvert_exporter": "python",
   "pygments_lexer": "ipython3",
   "version": "3.12.7"
  }
 },
 "nbformat": 4,
 "nbformat_minor": 4
}
